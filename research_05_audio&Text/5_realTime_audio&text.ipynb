{
 "cells": [
  {
   "cell_type": "code",
   "execution_count": 2,
   "metadata": {},
   "outputs": [
    {
     "name": "stdout",
     "output_type": "stream",
     "text": [
      "Leading management consulting firm, focusing on translation the power of technology into realizable business strategies.\n"
     ]
    }
   ],
   "source": [
    "# `pip3 install assemblyai` (macOS)\n",
    "# `pip install assemblyai` (Windows)\n",
    "\n",
    "import assemblyai as aai\n",
    "\n",
    "aai.settings.api_key = \"bc72a669f0364df28edbfe616afbc00d\"\n",
    "\n",
    "config = aai.TranscriptionConfig(auto_highlights=True)\n",
    "\n",
    "\n",
    "transcriber = aai.Transcriber()\n",
    "transcript = transcriber.transcribe(\"2_input_audio.mp3\",config=config)\n",
    "\n",
    "# for result in transcript.auto_highlights.results:\n",
    "#   print(f\"Highlight: {result.text}, Count: {result.count}, Rank: {result.rank}\")\n",
    "\n",
    "print(transcript.text)"
   ]
  },
  {
   "cell_type": "code",
   "execution_count": 1,
   "metadata": {},
   "outputs": [
    {
     "name": "stdout",
     "output_type": "stream",
     "text": [
      "An error occured: This feature is paid-only. Visit https://app.assemblyai.com/ to add a credit card to your account.\n",
      "An error occured: This feature is paid-only and requires you to add a credit card.\n",
      "    Please visit https://app.assemblyai.com/ to add a credit card to your account\n",
      "An error occured: This feature is paid-only and requires you to add a credit card.\n",
      "    Please visit https://app.assemblyai.com/ to add a credit card to your account\n"
     ]
    }
   ],
   "source": [
    "# import assemblyai as aai\n",
    "# import openai\n",
    "# # import elevenlabs\n",
    "# from queue import Queue\n",
    "\n",
    "# # Set API keys\n",
    "# aai.settings.api_key = \"bc72a669f0364df28edbfe616afbc00d\"\n",
    "# # openai.api_key = \"API-KEY\"\n",
    "# # elevenlabs.set_api_key(\"API-KEY\") \n",
    "\n",
    "# transcript_queue = Queue()\n",
    "\n",
    "# def on_data(transcript: aai.RealtimeTranscript):\n",
    "#     if not transcript.text:\n",
    "#         return\n",
    "#     if isinstance(transcript, aai.RealtimeFinalTranscript):\n",
    "#         transcript_queue.put(transcript.text + '')\n",
    "#         print(\"User:\", transcript.text, end=\"\\r\\n\")\n",
    "#     else:\n",
    "#         print(transcript.text, end=\"\\r\")\n",
    "\n",
    "# def on_error(error: aai.RealtimeError):\n",
    "#     print(\"An error occured:\", error)\n",
    "\n",
    "# # Conversation loop\n",
    "# def handle_conversation():\n",
    "#     # while True:\n",
    "#         transcriber = aai.RealtimeTranscriber(\n",
    "#             on_data=on_data,\n",
    "#             on_error=on_error,\n",
    "#             sample_rate=44_100,\n",
    "#         )\n",
    "\n",
    "#         # Start the connection\n",
    "#         transcriber.connect()\n",
    "\n",
    "#         # Open  the microphone stream\n",
    "#         microphone_stream = aai.extras.MicrophoneStream()\n",
    "\n",
    "#         # Stream audio from the microphone\n",
    "#         transcriber.stream(microphone_stream)\n",
    "\n",
    "#         # Close current transcription session with Crtl + C\n",
    "#         transcriber.close()\n",
    "\n",
    "#         # Retrieve data from queue\n",
    "#         transcript_result = transcript_queue.get()\n",
    "\n",
    "#         print(transcript_result)\n",
    "#         # break\n",
    "#         # # Send the transcript to OpenAI for response generation\n",
    "#         # response = openai.ChatCompletion.create(\n",
    "#         #     model = 'gpt-4',\n",
    "#         #     messages = [\n",
    "#         #         {\"role\": \"system\", \"content\": 'You are a highly skilled AI, answer the questions given within a maximum of 1000 characters.'},\n",
    "#         #         {\"role\": \"user\", \"content\": transcript_result}\n",
    "#         #     ]\n",
    "#         # )\n",
    "\n",
    "#         # #text = response['choices'][0]['message']['content']\n",
    "#         # text = \"AssemblyAI is the best YouTube channel for the latest AI tutorials.\"\n",
    "\n",
    "#         # # Convert the response to audio and play it\n",
    "#         # audio = elevenlabs.generate(\n",
    "#         #     text=text,\n",
    "#         #     voice=\"Bella\" # or any voice of your choice\n",
    "#         # )\n",
    "\n",
    "#         # print(\"\\nAI:\", text, end=\"\\r\\n\")\n",
    "\n",
    "#         # elevenlabs.play(audio)\n",
    "\n",
    "# handle_conversation()"
   ]
  },
  {
   "cell_type": "code",
   "execution_count": null,
   "metadata": {},
   "outputs": [],
   "source": []
  }
 ],
 "metadata": {
  "kernelspec": {
   "display_name": "venv310",
   "language": "python",
   "name": "python3"
  },
  "language_info": {
   "codemirror_mode": {
    "name": "ipython",
    "version": 3
   },
   "file_extension": ".py",
   "mimetype": "text/x-python",
   "name": "python",
   "nbconvert_exporter": "python",
   "pygments_lexer": "ipython3",
   "version": "3.10.0"
  }
 },
 "nbformat": 4,
 "nbformat_minor": 2
}
