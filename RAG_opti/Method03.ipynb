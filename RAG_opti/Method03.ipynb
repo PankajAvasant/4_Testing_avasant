{
 "cells": [
  {
   "cell_type": "code",
   "execution_count": 1,
   "metadata": {},
   "outputs": [],
   "source": [
    "from llama_index import (\n",
    "    VectorStoreIndex,\n",
    "    get_response_synthesizer,\n",
    "    SimpleDirectoryReader\n",
    ")\n",
    "\n",
    "from llama_index.retrievers import VectorIndexRetriever\n",
    "from llama_index.query_engine import RetrieverQueryEngine\n",
    "from llama_index.postprocessor import SimilarityPostprocessor\n"
   ]
  },
  {
   "cell_type": "code",
   "execution_count": 2,
   "metadata": {},
   "outputs": [
    {
     "name": "stdout",
     "output_type": "stream",
     "text": [
      "<llama_index.indices.vector_store.retrievers.retriever.VectorIndexRetriever object at 0x00000212E9E2A290>\n"
     ]
    }
   ],
   "source": [
    "\n",
    "documents = SimpleDirectoryReader(\"data\").load_data()\n",
    "\n",
    "# build index\n",
    "index = VectorStoreIndex.from_documents(documents)\n",
    "\n",
    "# configure retriever\n",
    "retriever = VectorIndexRetriever(\n",
    "    index=index,\n",
    "    similarity_top_k=10,\n",
    ")\n",
    "\n",
    "print(retriever)\n",
    "\n"
   ]
  },
  {
   "cell_type": "code",
   "execution_count": 3,
   "metadata": {},
   "outputs": [
    {
     "name": "stdout",
     "output_type": "stream",
     "text": [
      "- The man discovers a roll-top desk in a junk shop and finds a secret drawer containing a letter from World War I.\n",
      "- The letter is from a soldier named Jim Macpherson to his wife Connie, expressing hope for peace and their reunion.\n",
      "- The man tracks down Mrs. Macpherson, who is now a hundred and one years old and living in a nursing home.\n",
      "- He gives her the letter, bringing her great joy and allowing her to hear her husband's voice again.\n",
      "- The story explores themes of love, loss, and the power of a cherished memento.\n",
      "\n",
      "Important Questions and Answers:\n",
      "1. What did the author find in the junk shop? - The author found a roll-top desk.\n",
      "2. What did he find in the secret drawer? Who do you think had put it in there? - He found a letter from Jim Macpherson to his wife Connie. It is unclear who put it in the drawer.\n",
      "3. Why did the author go to Bridport? - The author went to Bridport to find a roll-top desk.\n",
      "4. How old was Mrs. Macpherson and where was she? - Mrs. Macpherson was a hundred and one years old and living in a nursing home in Burlington House.\n"
     ]
    }
   ],
   "source": [
    "# configure response synthesizer\n",
    "response_synthesizer = get_response_synthesizer()\n",
    "\n",
    "# assemble query engine\n",
    "query_engine = RetrieverQueryEngine(\n",
    "    retriever=retriever,\n",
    "    response_synthesizer=response_synthesizer,\n",
    "    node_postprocessors=[SimilarityPostprocessor(similarity_cutoff=0.7)],\n",
    ")\n",
    "\n",
    "# query\n",
    "response = query_engine.query(\"what is summary of the story? in bullet points and also provide the important questions and answers related to story\")\n",
    "print(response)\n",
    "\n"
   ]
  },
  {
   "cell_type": "code",
   "execution_count": null,
   "metadata": {},
   "outputs": [],
   "source": []
  }
 ],
 "metadata": {
  "kernelspec": {
   "display_name": "venv310",
   "language": "python",
   "name": "python3"
  },
  "language_info": {
   "codemirror_mode": {
    "name": "ipython",
    "version": 3
   },
   "file_extension": ".py",
   "mimetype": "text/x-python",
   "name": "python",
   "nbconvert_exporter": "python",
   "pygments_lexer": "ipython3",
   "version": "3.10.0"
  }
 },
 "nbformat": 4,
 "nbformat_minor": 2
}
